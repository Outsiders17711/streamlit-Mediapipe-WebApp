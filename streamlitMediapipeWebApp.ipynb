{
    "cells": [
        {
            "cell_type": "markdown",
            "source": [
                "## ADVANCED COMPUTER VISION WITH PYTHON WEB APP"
            ],
            "metadata": {}
        },
        {
            "cell_type": "markdown",
            "source": [
                "---\r\n",
                "\r\n",
                "Notes:\r\n",
                "\r\n",
                "- [How to access uploaded video in streamlit by OpenCV](https://discuss.streamlit.io/t/how-to-access-uploaded-video-in-streamlit-by-open-cv/5831)\r\n",
                "- [Convert URL to image with Python and OpenCV](https://www.pyimagesearch.com/2015/03/02/convert-url-to-image-with-python-and-opencv/)\r\n",
                "- [CSS - CENTERING THINGS](https://www.w3.org/Style/Examples/007/center.en.html#:~:text=This%20is%20also%20the%20way%20to%20center%20an%20image)\r\n",
                "- [Clear StreamLit cache](https://github.com/streamlit/streamlit/issues/732#issuecomment-558846122)\r\n",
                "- [Camera Parameters Reference in OpenCV/Python](http://docs.opencv.org/modules/highgui/doc/reading_and_writing_images_and_video.html#videocapture-set)\r\n",
                "- [Access streamlit uploaded image in OpenCV](https://github.com/streamlit/streamlit/issues/888#issuecomment-568514233)\r\n",
                "- [OpenCV load video from url](https://stackoverflow.com/a/50276746)\r\n",
                "\r\n",
                "---\r\n",
                "\r\n",
                "Git Issues:\r\n",
                "\r\n",
                "- [Could not read Username for 'https://github.com'](https://github.com/angular-schule/angular-cli-ghpages/issues/14)\r\n",
                "- [Adding an existing project to GitHub using the command line](https://docs.github.com/en/github/importing-your-projects-to-github/importing-source-code-to-github/adding-an-existing-project-to-github-using-the-command-line)\r\n",
                "\r\n",
                "---"
            ],
            "metadata": {}
        },
        {
            "cell_type": "markdown",
            "source": [
                "## old method of centering images in streamlit\r\n",
                "\r\n",
                "new method is resizing the images to a desired width and padding both sides, using np.zeroes or np.ones.\r\n",
                "\r\n",
                "```python\r\n",
                "img_file = random.choice(demoImages)\r\n",
                "        img, mask = open_img(img_file, resize=True)\r\n",
                "\r\n",
                "        st.sidebar.text(\"Original Image\")\r\n",
                "        columns = st.sidebar.beta_columns([1, 10, 1])\r\n",
                "        columns[1].image(mask)\r\n",
                "        st.sidebar.markdown(\"---\")\r\n",
                "```"
            ],
            "metadata": {}
        },
        {
            "cell_type": "code",
            "execution_count": 1,
            "source": [
                "!streamlit run streamlitMediapipe.py"
            ],
            "outputs": [
                {
                    "output_type": "stream",
                    "name": "stdout",
                    "text": [
                        "^C\n"
                    ]
                }
            ],
            "metadata": {}
        },
        {
            "cell_type": "code",
            "execution_count": 1,
            "source": [
                "!git init -b main"
            ],
            "outputs": [
                {
                    "output_type": "stream",
                    "name": "stdout",
                    "text": [
                        "Initialized empty Git repository in H:/0ut51d3r5.17711/Google Drive/_hlu.Projects/_hlu.courses/Advanced Computer Vision with Python/_streamlitMediapipeWebApp/.git/\n"
                    ]
                }
            ],
            "metadata": {}
        },
        {
            "cell_type": "code",
            "execution_count": 2,
            "source": [
                "!git add ."
            ],
            "outputs": [
                {
                    "output_type": "stream",
                    "name": "stderr",
                    "text": [
                        "warning: LF will be replaced by CRLF in streamlitMediapipeWebApp.ipynb.\n",
                        "The file will have its original line endings in your working directory\n"
                    ]
                }
            ],
            "metadata": {}
        },
        {
            "cell_type": "code",
            "execution_count": 3,
            "source": [
                "!git commit -m \"initial commit\""
            ],
            "outputs": [
                {
                    "output_type": "stream",
                    "name": "stdout",
                    "text": [
                        "[main (root-commit) 5062880] initial commit\n",
                        " 5 files changed, 1185 insertions(+)\n",
                        " create mode 100644 functions.py\n",
                        " create mode 100644 modules.py\n",
                        " create mode 100644 streamlitMediapipe.py\n",
                        " create mode 100644 streamlitMediapipeWebApp.ipynb\n",
                        " create mode 100644 strings.py\n"
                    ]
                }
            ],
            "metadata": {}
        },
        {
            "cell_type": "code",
            "execution_count": 6,
            "source": [
                "!git remote add origin https://github.com/Outsiders17711/streamlit-Mediapipe-WebApp.git\r\n",
                "!git remote -v"
            ],
            "outputs": [
                {
                    "output_type": "stream",
                    "name": "stderr",
                    "text": [
                        "error: remote origin already exists.\n"
                    ]
                },
                {
                    "output_type": "stream",
                    "name": "stdout",
                    "text": [
                        "origin\thttps://github.com/Outsiders17711/streamlit-Mediapipe-WebApp.git (fetch)\n",
                        "origin\thttps://github.com/Outsiders17711/streamlit-Mediapipe-WebApp.git (push)\n"
                    ]
                }
            ],
            "metadata": {}
        },
        {
            "cell_type": "code",
            "execution_count": 8,
            "source": [
                "!git push origin main"
            ],
            "outputs": [
                {
                    "output_type": "stream",
                    "name": "stderr",
                    "text": [
                        "error: cannot spawn sh: No such file or directory\n",
                        "error: failed to execute prompt script (exit code 255)\n",
                        "fatal: could not read Username for 'https://github.com': No such file or directory\n"
                    ]
                }
            ],
            "metadata": {}
        },
        {
            "cell_type": "code",
            "execution_count": 9,
            "source": [
                "commit_description = input(\"commit_description: \")\r\n",
                "\r\n",
                "!echo ___checking status___\r\n",
                "!git status\r\n",
                "\r\n",
                "!echo ◙^___adding changes___\r\n",
                "!git add .\r\n",
                "\r\n",
                "!echo ◙^___committing changes___\r\n",
                "!git commit -m \"{commit_description}\"\r\n",
                "\r\n",
                "!echo ___setting the remote repository___\r\n",
                "!git remote set-url origin https://github.com/Outsiders17711/streamlit-Mediapipe-WebApp.git\r\n",
                "!git remote -v\r\n",
                "\r\n",
                "!echo ◙^___pushing to remote___\r\n",
                "!git push\r\n",
                "\r\n",
                "!echo ◙^___pulling to sync history with local___\r\n",
                "!git pull\r\n",
                "\r\n",
                "!echo ◙^___double-checking status___\r\n",
                "!git status"
            ],
            "outputs": [
                {
                    "output_type": "stream",
                    "name": "stdout",
                    "text": [
                        "___checking status___\n",
                        "On branch main\n",
                        "Your branch is up to date with 'origin/main'.\n",
                        "\n",
                        "nothing to commit, working tree clean\n",
                        "\n",
                        "___adding changes___\n",
                        "\n",
                        "___committing changes___\n",
                        "On branch main\n",
                        "Your branch is up to date with 'origin/main'.\n",
                        "\n",
                        "nothing to commit, working tree clean\n",
                        "___setting the remote repository___\n",
                        "origin\thttps://github.com/Outsiders17711/streamlit-Mediapipe-WebApp.git (fetch)\n",
                        "origin\thttps://github.com/Outsiders17711/streamlit-Mediapipe-WebApp.git (push)\n",
                        "\n",
                        "___pushing to remote___\n"
                    ]
                },
                {
                    "output_type": "stream",
                    "name": "stderr",
                    "text": [
                        "error: cannot spawn sh: No such file or directory\n",
                        "error: failed to execute prompt script (exit code 255)\n",
                        "fatal: could not read Username for 'https://github.com': No such file or directory\n"
                    ]
                },
                {
                    "output_type": "stream",
                    "name": "stdout",
                    "text": [
                        "\n",
                        "___pulling to sync history with local___\n",
                        "Already up to date.\n",
                        "\n",
                        "___double-checking status___\n",
                        "On branch main\n",
                        "Your branch is up to date with 'origin/main'.\n",
                        "\n",
                        "nothing to commit, working tree clean\n"
                    ]
                }
            ],
            "metadata": {}
        }
    ],
    "metadata": {
        "orig_nbformat": 4,
        "language_info": {
            "name": "python",
            "version": "3.8.5",
            "mimetype": "text/x-python",
            "codemirror_mode": {
                "name": "ipython",
                "version": 3
            },
            "pygments_lexer": "ipython3",
            "nbconvert_exporter": "python",
            "file_extension": ".py"
        },
        "kernelspec": {
            "name": "python3",
            "display_name": "Python 3.8.5 64-bit ('hlu': conda)"
        },
        "interpreter": {
            "hash": "64ed01536bf604a35b39c8ffb5f8754e0194885370844d2a99bdfd2c5ccd0baa"
        }
    },
    "nbformat": 4,
    "nbformat_minor": 2
}